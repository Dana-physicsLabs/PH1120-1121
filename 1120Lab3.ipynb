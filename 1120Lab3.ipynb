{
 "cells": [
  {
   "cell_type": "code",
   "execution_count": 1,
   "metadata": {},
   "outputs": [
    {
     "name": "stdout",
     "output_type": "stream",
     "text": [
      "Total capacitance (parallel): 9.0 +/- 0.05 F\n",
      "Total capacitance (series): 2.2222222222222223 +/- 1.2107999999999999 F\n"
     ]
    }
   ],
   "source": [
    "#===========================================================\n",
    "# WPI PHYSICS DEPARTMENT - 2020-2021\n",
    "# PH1120/21 Lab 3 - Capacitance\n",
    "# Sample code for calculating capacitance and uncertainties\n",
    "#-----------------------------------------------------------\n",
    "# Copyright Amelia Nishimura 2020 :v\n",
    "# Modified by Christian Piper 2022\n",
    "#-----------------------------------------------------------\n",
    "\n",
    "# Define the two capacitance values and their respective uncertainties (get from LoggerPro)\n",
    "c1 = 5.0\n",
    "c1_uncertainty = 0.02\n",
    "c2 = 4.0\n",
    "c2_uncertainty = 0.03\n",
    "\n",
    "# For the case where the capacitors are in parallel\n",
    "c_parallel = c1 + c2 #Eq 5\n",
    "c_parallel_uncertainty = c1_uncertainty + c2_uncertainty #Eq 6\n",
    "print(f'Eq 2 & 5: Total capacitance (parallel): {c_parallel} +/- {c_parallel_uncertainty} μF')\n",
    "\n",
    "# For the case where the capacitors are in series\n",
    "c_series = (c1 * c2) / (c1 + c2)\n",
    "c_series_uncertainty = (c1_uncertainty * ((c2 / (c1 + c2)) ** 2)) + (c2_uncertainty * ((c1 / (c1 + c2)) ** 2))\n",
    "print(f'Eq 3 & 4: Total capacitance (series): {c_series} +/- {c_series_uncertainty} μF')\n",
    "\n",
    "#Remember to report with the proper number of significant figures! "
   ]
  },
  {
   "cell_type": "code",
   "execution_count": null,
   "metadata": {},
   "outputs": [],
   "source": []
  }
 ],
 "metadata": {
  "kernelspec": {
   "display_name": "Python 3",
   "language": "python",
   "name": "python3"
  },
  "language_info": {
   "codemirror_mode": {
    "name": "ipython",
    "version": 3
   },
   "file_extension": ".py",
   "mimetype": "text/x-python",
   "name": "python",
   "nbconvert_exporter": "python",
   "pygments_lexer": "ipython3",
   "version": "3.9.13"
  }
 },
 "nbformat": 4,
 "nbformat_minor": 2
}
