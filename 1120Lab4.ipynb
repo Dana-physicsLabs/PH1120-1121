{
 "cells": [
  {
   "cell_type": "code",
   "execution_count": 4,
   "metadata": {},
   "outputs": [
    {
     "name": "stdout",
     "output_type": "stream",
     "text": [
      "Total resistance (series): 9.0 +/- 0.05 F\n",
      "Total restance (parallel): 2.2222222222222223 +/- 0.013209876543209875 F\n"
     ]
    }
   ],
   "source": [
    "#===========================================================\n",
    "# WPI PHYSICS DEPARTMENT - 2023-2024\n",
    "# PH1120 Lab 3 - Capacitance\n",
    "# Modified from sample code for calculating capacitance and uncertainties by Amelia Nishimura 2020 :v\n",
    "#-----------------------------------------------------------\n",
    "\n",
    "# Define the two resistor values and their respective uncertainties (get from LoggerPro)\n",
    "r1 = 6.0\n",
    "r1_uncertainty = 0.02\n",
    "r2 = 4.5\n",
    "r2_uncertainty = 0.03\n",
    "\n",
    "# For the case where the capacitors are in series\n",
    "r_series = r1 + r2\n",
    "r_series_uncertainty = r1_uncertainty + r2_uncertainty\n",
    "print(f'Total resistance (series): {r_series} +/- {r_series_uncertainty} F')\n",
    "\n",
    "# For the case where the resistor are parallel\n",
    "r_parallel = ((1/r1) + (1/r2))**-1\n",
    "r_parallel_uncertainty = (r1_uncertainty * ((r2**2 / ((r1 + r2) ** 2)))) + (r2_uncertainty * ((r1**2) / ((r1 + r2) ** 2)))\n",
    "print(f'Total restance (parallel): {r_parallel} +/- {r_parallel_uncertainty} F')\n",
    "\n",
    "#Remember to report with the proper number of significant figures!"
   ]
  },
  {
   "cell_type": "code",
   "execution_count": null,
   "metadata": {},
   "outputs": [],
   "source": []
  }
 ],
 "metadata": {
  "kernelspec": {
   "display_name": "Python 3",
   "language": "python",
   "name": "python3"
  },
  "language_info": {
   "codemirror_mode": {
    "name": "ipython",
    "version": 3
   },
   "file_extension": ".py",
   "mimetype": "text/x-python",
   "name": "python",
   "nbconvert_exporter": "python",
   "pygments_lexer": "ipython3",
   "version": "3.7.0"
  }
 },
 "nbformat": 4,
 "nbformat_minor": 2
}
